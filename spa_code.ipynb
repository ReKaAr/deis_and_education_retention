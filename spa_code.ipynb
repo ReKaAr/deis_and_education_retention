{
 "cells": [
  {
   "cell_type": "markdown",
   "id": "e8d34f2c-b6de-4661-8194-7194b5aa0bf1",
   "metadata": {},
   "source": [
    "# Preparing School Planning Areas data\n",
    "## Code involves:\n",
    "1. Extracting the required data from Arcgis online school planning areas map service,\n",
    "2. Converting SPA polygons from Web Mercator into longitude and latitude format,\n",
    "3. Creating two separae GeoDataFrames for the SPAs and the schools.\n",
    "4. Spatially joining the schools to their respective SPAs,\n",
    "5. Finally saving into new complete dataset.\n",
    "\n",
    "#### *NOTE*: All column names and pathways will need to be updated to reflect how saved in your dataset."
   ]
  },
  {
   "cell_type": "code",
   "execution_count": null,
   "id": "7c38cead-2c6e-47ec-9fd4-424cf4e6d146",
   "metadata": {},
   "outputs": [],
   "source": [
    "#Loading libraries and link to School Planning Areas map.\n",
    "import requests\n",
    "from shapely.geometry import shape, Polygon, Point\n",
    "import pandas as pd\n",
    "from pyproj import Transformer\n",
    "import openpyxl as openpyxl\n",
    "import geopandas as gpd\n",
    "url = \"https://services-eu1.arcgis.com/9HteQxumPOXiqlpG/arcgis/rest/services/School_Planning_Areas_2011_Map_Viewer/FeatureServer/0/query\" #Link to SPA map\n",
    "\n",
    "params = {\n",
    "    'where': '1=1',\n",
    "    'outFields': '*',\n",
    "    'returnGeometry': 'true',\n",
    "    'f': 'json'\n",
    "} #Restricting what is scraped to just the json geometry data and attributes required\n",
    "\n",
    "resp= requests.get(url, params=params)\n",
    "data= resp.json()\n",
    "transformer= Transformer.from_crs(\"epsg:3857\", \"epsg:4326\", always_xy=True) #Converting co-ordinates from Web Mercator into latitude and longitude format\n",
    "\n",
    "spaPolygon = []\n",
    "spaID = []\n",
    "spaName = []#preparing empty lists to hold needed data\n",
    "\n",
    "for feature in data['features']:\n",
    "    attr = feature['attributes'] #Extracts other information (e.g. name) to extract on each SPA\n",
    "    geom = feature['geometry'] #Extracts The geographical data for each SPA\n",
    "    rings = geom.get('rings', [])\n",
    "    \n",
    "    poly_3857 = Polygon(rings[0]) #creates polygon from Web Mercator co-ordinates\n",
    "    poly_coords_3857 = list(poly_3857.exterior.coords) #List of all polygon co-ordinates in web mercator format\n",
    "    poly_coords_4326 = [transformer.transform(x, y) for x, y in poly_coords_3857] #Transorming to long-lat format.\n",
    "    poly_4326 = Polygon(poly_coords_4326) #Creating polygons in transformed long-lat format\n",
    "    \n",
    "    spaPolygon.append(poly_4326)#Assigning polygon list of co-ordinates to spaPolygon list\n",
    "    spaID.append(attr.get(\"OBJECTID\")) #Assigning spa nuerical codes to spaID list\n",
    "    spaName.append(attr.get(\"PLANNING_AREA\") or attr.get(\"Name\") or \"Unknown\")#Assigning spa names to spaName list\n",
    "\n",
    "spaGDF = gpd.GeoDataFrame({\n",
    "    'SPA_ID': spaID,\n",
    "    'SPA': spaName,\n",
    "    'geometry': spaPolygon\n",
    "}, crs=\"EPSG:4326\") # Creating a GeoDataFrame for SPA polygons\n",
    "\n",
    "dataOverall = pd.read_excel('C:\\\\') # Add path to overall schools dataset (this is combined schools data from Department of Education annual csv's)\n",
    "\n",
    "schoolGDF = gpd.GeoDataFrame(\n",
    "    dataOverall,\n",
    "    geometry=gpd.points_from_xy(dataOverall.long, dataOverall.lat),\n",
    "    crs=\"EPSG:4326\"\n",
    ") # Creating a second GeoDataFrame of schools points using (longitude, latitude)\n",
    "\n",
    "schoolMatchSPA = gpd.sjoin(schoolGDF, spaGDF[['SPA_ID', 'SPA', 'geometry']], how='left', predicate='within') #Spatially joinng the 2 GeoDataFrames\n",
    "\n",
    "print(schoolMatchSPA[['School', 'lat', 'long', 'SPA_ID', 'SPA']].head()) #Checking it worked #Change column names to reflect your dataset"
   ]
  },
  {
   "cell_type": "code",
   "execution_count": null,
   "id": "d507de12-ca63-4702-8d86-b05573d659dc",
   "metadata": {},
   "outputs": [],
   "source": [
    "#Saving the dataset for analysis;\n",
    "schoolMatchSPA.to_excel(\".xlsx\", index=False) #Add pathway to folder and name dataset"
   ]
  },
  {
   "cell_type": "code",
   "execution_count": null,
   "id": "75d0359f-a790-4115-afdb-cca47cd1ff0e",
   "metadata": {},
   "outputs": [],
   "source": [
    "#Visualising the SPA\n",
    "import matplotlib.pyplot as plt\n",
    "import geopandas as gpd\n",
    "fig, ax = plt.subplots(figsize=(12, 10))\n",
    "spaGDF.plot(\n",
    "    ax=ax,\n",
    "    column='SPA_ID',     \n",
    "    cmap='tab20',        \n",
    "    edgecolor='black',   \n",
    "    linewidth=0.3,\n",
    "    legend=False\n",
    ")\n",
    "plt.title(\"School Planning Areas\", fontsize=16)\n",
    "plt.axis('off')  \n",
    "plt.savefig(\"spa_map_coloured.png\", dpi=300, bbox_inches='tight') #Saves to folder\n",
    "plt.show()"
   ]
  }
 ],
 "metadata": {
  "kernelspec": {
   "display_name": "Python 3 (ipykernel)",
   "language": "python",
   "name": "python3"
  },
  "language_info": {
   "codemirror_mode": {
    "name": "ipython",
    "version": 3
   },
   "file_extension": ".py",
   "mimetype": "text/x-python",
   "name": "python",
   "nbconvert_exporter": "python",
   "pygments_lexer": "ipython3",
   "version": "3.13.1"
  }
 },
 "nbformat": 4,
 "nbformat_minor": 5
}
