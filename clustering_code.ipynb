{
 "cells": [
  {
   "cell_type": "markdown",
   "id": "463ae533-88bb-4a40-b581-920b07ea5b8a",
   "metadata": {},
   "source": [
    "# Creating Clusters for analysis\n",
    "###### *NOTE*: All column names and pathways need to be changed to reflect your dataset\n",
    "## First, loading libraries and data"
   ]
  },
  {
   "cell_type": "code",
   "execution_count": null,
   "id": "436a37b6-4cb5-407c-a898-0959a581bf7f",
   "metadata": {},
   "outputs": [],
   "source": [
    "#Loading necessary libraries\n",
    "library(readxl)\n",
    "library(writexl)\n",
    "library(dplyr)\n",
    "library(httr)\n",
    "library(jsonlite)\n",
    "library(sf)\n",
    "library(igraph)\n",
    "library(tidyr)\n",
    "library(ggplot2)\n",
    "library(viridis)"
   ]
  },
  {
   "cell_type": "code",
   "execution_count": null,
   "id": "c920b8dd-8cf0-46c0-9b20-4784bd3202bb",
   "metadata": {},
   "outputs": [],
   "source": [
    "#Loading dataset to combine the formed groups - saved file of combined school data from DoE csv's\n",
    "tryCatch({\n",
    "    df <- read_excel(\"C:\\\\\") # This is the path to the dataset of the school and HP Index scores on your local device\n",
    "    message(\"loaded\")\n",
    "    error = function(e)\n",
    "    stop(\"Unable to load\",e$message)\n",
    "})"
   ]
  },
  {
   "cell_type": "markdown",
   "id": "d6966f11-d61c-4aee-884b-77bfa48284a1",
   "metadata": {},
   "source": [
    "### Part 1: Grouping based on matching Pobal Deprivation Index Scores"
   ]
  },
  {
   "cell_type": "code",
   "execution_count": null,
   "id": "9084ae94-5679-4a37-919b-dd5781ec7181",
   "metadata": {},
   "outputs": [],
   "source": [
    "# Grouping the Pobal Index column into groups within 0.01, 0.05, 0.1, 0.2, and 1.0 degrees of separation\n",
    "# Change 'pobalGrouping' to reflect cluster names you wish to save\n",
    "pobalGrouping <- function(df, grouping_values = c(0.01, 0.05, 0.1, 0.2, 0.5, 1.0)) {\n",
    "  min_val <- floor(min(df$indexDif, na.rm = TRUE))\n",
    "  max_val <- ceiling(max(df$indexDif, na.rm = TRUE))\n",
    "\n",
    "  for (grouping in grouping_values) {\n",
    "    breaks <- seq(min_val, max_val, by = grouping)\n",
    "    \n",
    "    if (length(breaks) < 2) {\n",
    "      warning(paste(\"Skipping grouping\", grouping, \"- not enough breaks\"))\n",
    "      next\n",
    "    }\n",
    "\n",
    "    column <- paste0(\"PobalGrouping\", grouping)\n",
    "    \n",
    "    df[[column]] <- cut(df$indexDif,\n",
    "                        breaks = breaks,\n",
    "                        labels = FALSE,\n",
    "                        include.lowest = TRUE,\n",
    "                        right = FALSE)\n",
    "\n",
    "    # Plots observations of number of schools per cluster in each grouping method\n",
    "    ggplot(df, aes_string(x = column)) +\n",
    "      geom_bar(fill = \"#440154FF\") +\n",
    "      labs(\n",
    "        title = paste(\"Grouping of indexDif using step =\", grouping),\n",
    "        x = paste(\"Group (Interval Width =\", grouping, \")\"),\n",
    "        y = \"Number of Observations\"\n",
    "      ) +\n",
    "      theme_minimal() -> p\n",
    "\n",
    "    print(p)\n",
    "  }\n",
    "    return(df)  \n",
    "}\n",
    "pobalGrouping(df) "
   ]
  },
  {
   "cell_type": "markdown",
   "id": "e0649e00-4cea-4d23-a575-0381d9424806",
   "metadata": {},
   "source": [
    "### Part 2: Grouping based on touching electoral districts using K-Nearest Neighbours:"
   ]
  },
  {
   "cell_type": "code",
   "execution_count": null,
   "id": "f87f9229-e5d6-4b93-9f23-7adfb7f34515",
   "metadata": {},
   "outputs": [],
   "source": [
    "# Isolating the eircode column from the excel data\n",
    "eircode<-df$'Eircode' #Change 'Eircode' to reflect column name from your dataset\n",
    "\n",
    "# Creating function to match eircodes of schools with their latitude and longitude\n",
    "geocode<-function(postcodes) {\n",
    "    query <- paste0(postcodes, \"Ireland\")\n",
    "    viewbox <-\"-10.5,55.4,-5.3,51.3\" #Restricting location search to only check matching eircodes in Ireland\n",
    "    url<-paste0(\"https://nominatim.openstreetmap.org/search?q=\",\n",
    "                utils::URLencode(query, reserved = TRUE),\n",
    "                \"&format=json&addressdetails=1&limit=1\",\n",
    "                \"&viewbox=\", viewbox,\n",
    "                \"&bounded=1\") #Linking online database\n",
    "    res<- GET(url, user_agent(edMatch (#**INPUT YOUR EMAIL HERE**\n",
    "    ))) # Requirement by nomination for access, insert your email address here\n",
    "    json_text <- content(res, \"text\", encoding = \"UTF-8\")\n",
    "    json <- fromJSON(json_text, simplifyVector = FALSE)\n",
    "\n",
    "if (length(json) > 0 && is.list(json)) { #Ensuring there is a list and that results exist\n",
    "    if (!is.null(json[[1]]$lat) && !is.null(json[[1]]$lon)) {\n",
    "        return(data.frame(eircode = postcodes,\n",
    "                          lat = as.numeric(json[[1]]$lat),\n",
    "                          long = as.numeric(json[[1]]$lon)\n",
    "                         ))\n",
    "        }\n",
    "    }\n",
    "    return(data.frame(eircode=postcodes, lat= NA, long= NA)) #Change name as required\n",
    "}"
   ]
  },
  {
   "cell_type": "code",
   "execution_count": null,
   "id": "08596504-5003-4d73-b65c-a5c41764b91c",
   "metadata": {},
   "outputs": [],
   "source": [
    "# Combining the school eircodes from the dataframe with their matching latitutde and longitude\n",
    "eircode<-unique(eircode)\n",
    "locationData<-do.call(rbind, lapply(eircode,geocode))\n",
    "names(locationData)[names(locationData) ==\"eircode\"] <-Eircode \n",
    "# Ensuring eircode names match, use column name from your dataset\n",
    "locationDataFrame<- left_join(df, locationData, by = Eircode)\n",
    "colnames(locationDataFrame) #Checking it worked"
   ]
  },
  {
   "cell_type": "code",
   "execution_count": null,
   "id": "b026bbd4-a5e3-4c7a-89b1-6f0266be2e6a",
   "metadata": {},
   "outputs": [],
   "source": [
    "# Now loading a shapefile with the geojson data for each Electoral District\n",
    "ed_shp <- st_read(\"C://\")  #Add path to save geojson Electoral District data from your local device\n",
    "head(ed_shp) #Checking it worked"
   ]
  },
  {
   "cell_type": "code",
   "execution_count": null,
   "id": "5f626d3b-2701-4a45-9343-992d8e039d1d",
   "metadata": {},
   "outputs": [],
   "source": [
    "# Getting each electoral districts individual data assigned to a unique code by dissolving the multipart polyons\n",
    "ed_shp_singlepart <- ed_shp %>%\n",
    "    group_by(ED_ID_STR) %>%\n",
    "    summarize(geometry = st_union(geometry), \n",
    "              .groups = drop)\n",
    "    adjacency_matrix <- st_touches(ed_shp_singlepart) #Determines which electoral districts touch\n",
    "    isolated_indices <- which(lengths(adjacency_matrix) == 0) #Takes any electoral districts which are isolated (E.g., islands_)\n",
    "    isolated_data <- ed_shp_singlepart[isolated_indices, c(\"ED_ID_STR\", \"geometry\")\n",
    "    print(isolated_data) #Check if/how many isolated Electoral Districts\n",
    "    ed_centroids <- st_centroid(ed_shp_singlepart$geometry) #Calclates centroids of each electoral district\n",
    "    \n",
    "    if (length(isolated_indices) > 0) {\n",
    "      connected_indices <- setdiff(1:nrow(ed_shp_singlepart), isolated_indices) \n",
    "      isolated_centroids <- ed_centroids[isolated_indices]\n",
    "      connected_centroids <- ed_centroids[connected_indices]\n",
    "      nearest_neighbors <- st_nearest_feature(isolated_centroids, connected_centroids)\n",
    "    \n",
    "      isolate_to_nearest <- data.frame(\n",
    "        from = isolated_indices,\n",
    "        to = connected_indices[nearest_neighbors]\n",
    "    ) \n",
    "    } else {  \n",
    "      isolate_to_nearest <- data.frame(from = integer(0), to = integer(0))\n",
    "    } #Maps any isolated districts to the nearest electoral district to it.\n",
    "    \n",
    "    ed_ids <- ed_shp_singlepart$ED_ID_STR #Creates vector of each unique code for electoral districts\n",
    "    \n",
    "    edges <- do.call(rbind, lapply(1:length(adjacency_matrix), function(i) {\n",
    "      if (length(adjacency_matrix[[i]]) == 0) return(NULL)\n",
    "      data.frame(\n",
    "        from = ed_ids[i],\n",
    "        to = ed_ids[adjacency_matrix[[i]]]\n",
    "    )\n",
    "    }))#Creates outlining boundaries of each electoral district group\n",
    "    \n",
    "    edges <- edges[as.character(edges$from) < as.character(edges$to), ]\n",
    "    \n",
    "    if (nrow(isolate_to_nearest) > 0) {\n",
    "      isolate_edges_named <- data.frame(\n",
    "        from = ed_ids[isolate_to_nearest$from],\n",
    "        to = ed_ids[isolate_to_nearest$to]\n",
    "    )\n",
    "      edges <- rbind(edges, isolate_edges_named)\n",
    "    }\n",
    "    \n",
    "    edges <- unique(edges)\n",
    "    vertices_df <- data.frame(name = ed_ids)\n",
    "    g <- graph_from_data_frame(edges, vertices = vertices_df, directed = FALSE)\n",
    "    print(g) #Checking it worked"
   ]
  },
  {
   "cell_type": "code",
   "execution_count": null,
   "id": "afac80b9-e1f8-4570-a781-debf2aa405b3",
   "metadata": {},
   "outputs": [],
   "source": [
    "# KNearest Neighbours Clustering of Electoral Districts\n",
    "ed_centroids <- st_centroid(ed_shp_singlepart$geometry) #Gets centroid of each electoral district\n",
    "coords <- st_coordinates(ed_centroids) #Takes these co-ordinates\n",
    "total_EDs <- nrow(ed_shp_singlepart)\n",
    "group5 <- 5 #5 used as dominant analysis method, also run with 10 and 20 for robustness checks\n",
    "numCluster5 <- ceiling(total_EDs / group5)\n",
    "set.seed(42)  # for reproducibility\n",
    "km5 <- kmeans(coords, centers = numCluster5)\n",
    "ed_shp_singlepart$clusterED5 <- km5$cluster #Adding to data"
   ]
  },
  {
   "cell_type": "code",
   "execution_count": null,
   "id": "e868f571-5d6a-4a38-9af1-c89e46b6648e",
   "metadata": {},
   "outputs": [],
   "source": [
    "# Convert your schools data frame to an sf points object using lat/long\n",
    "schools_sf <- st_as_sf(locationDataFrame, \n",
    "                       coords = c(\"long.x\",\"lat.x\"), \n",
    "                       crs = st_crs(ed_shp_singlepart)) "
   ]
  },
  {
   "cell_type": "code",
   "execution_count": null,
   "id": "2d4bd14e-a22d-4aab-9123-4c9d48b7dafa",
   "metadata": {},
   "outputs": [],
   "source": [
    "# Join schools with the ED polygons based on their spatial location\\n\",\n",
    "schoolsED5 <- st_join(schools_sf, ed_shp_singlepart[, c(\"ED_ID_STR\", \"clusterED5\")], left = TRUE)\n",
    "schoolsED10 <- st_join(schools_sf, ed_shp_singlepart[, c(\"ED_ID_STR\", \"clusterED10\")], left = TRUE) #Used for robustness check\n",
    "schoolsED20 <- st_join(schools_sf, ed_shp_singlepart[, c(\"ED_ID_STR\", \"clusterED20\")], left = TRUE) #Used for robustness check"
   ]
  },
  {
   "cell_type": "code",
   "execution_count": null,
   "id": "68e19f86-f942-4b3c-8ff8-57d2cbc4ab4b",
   "metadata": {},
   "outputs": [],
   "source": [
    "# Remove geometry so we can join by attribute columns\n",
    "ed_shp_df <- ed_shp_singlepart %>%\n",
    "    st_set_geometry(NULL) %>%  # drop spatial information\n",
    "    select(ED_ID_STR, clusterED5) %>%\n",
    "    mutate(ED_ID_STR = str_to_upper(str_trim(ED_ID_STR)))\n",
    "    \n",
    "    schoolsED5 <- schoolsED5 %>%\n",
    "        mutate(`ED coded` = str_to_upper(str_trim(`ED coded`)\n",
    "                                        ))\n",
    "    \n",
    "    # Now join without geometry conflict\n",
    "    schoolsED5 <- schoolsED5 %>%\n",
    "      left_join(ed_shp_df, by = c(\"ED coded\" =\"ED_ID_STR\"))\n",
    "    \n",
    "    # Check for unmatched EDs (NAs)\n",
    "    num_NA <- sum(is.na(schoolsED5$clusterED5))\n",
    "    print(paste(\"Number of schools without cluster assignment:\", num_NA))"
   ]
  },
  {
   "cell_type": "code",
   "execution_count": null,
   "id": "df08e2a1-0d0d-4809-88ee-a62d4bfdcc48",
   "metadata": {},
   "outputs": [],
   "source": [
    "# Summarize cluster counts\n",
    "cluster_summary <- ed_shp_singlepart %>%\n",
    "    st_set_geometry(NULL) %>%  # drop geometry\n",
    "      group_by(clusterED5) %>%\n",
    "      summarise(\n",
    "        num_EDs = n()\n",
    "      ) %>%\n",
    "      arrange(clusterED5)\n",
    "    print(cluster_summary) #Check\n",
    "\n",
    "# Number of clusters, and seeing if any overlook group/ED\n",
    "    num_clusters <- n_distinct(ed_shp_singlepart$clusterED5)\n",
    "    cat(\"Number of clusters: \", num_clusters)\n",
    "    num_unassigned <- sum(is.na(ed_shp_singlepart$clusterED5))\n",
    "    cat(\"Number of EDs not assigned to any cluster: \", num_unassigned)\n",
    "    sum(is.na(ed_shp_singlepart$clusterED5)) "
   ]
  },
  {
   "cell_type": "markdown",
   "id": "f807daef-cf27-4659-84b0-c5834bf13131",
   "metadata": {},
   "source": [
    "#### Visualising clusters of touching Electoral Districts"
   ]
  },
  {
   "cell_type": "code",
   "execution_count": null,
   "id": "7e7e1751-5767-413b-b826-3fc3805c7d0e",
   "metadata": {},
   "outputs": [],
   "source": [
    "# Visualising the clusters\n",
    "clusterEDMap<- ggplot(ed_shp_singlepart) +\n",
    "    geom_sf(aes(fill = factor(clusterED5)), color = NA) +\n",
    "    scale_fill_viridis_d(option = \"plasma\") +\n",
    "    theme_minimal() +\n",
    "    theme(\n",
    "        axis.title = element_blank(),\n",
    "        axis.text = element_blank(),\n",
    "        axis.ticks = element_blank()\n",
    "    ) + \n",
    "    labs(fill = \"KNN Clusters\",\n",
    "    title = \"Electoral Districts grouped by KNN Clustering\")+\n",
    "    theme(legend.position = \"none\")\n",
    "    ggsave(\"clusterEDMap.png\", plot =clusterEDMap, width = 12, height = 10, dpi = 300)"
   ]
  },
  {
   "cell_type": "markdown",
   "id": "15756fad-5a1a-4623-bffe-b0e25ffc3ecc",
   "metadata": {},
   "source": [
    "### Part 3: Saving all the information into dataframe for analysis"
   ]
  },
  {
   "cell_type": "code",
   "execution_count": null,
   "id": "b7560c8b-23c3-4593-ae08-77fca66b3424",
   "metadata": {},
   "outputs": [],
   "source": [
    "# Saving the pobal clusters into a new excel file\n",
    "schools_with_clusters <- st_join(schools_sf, ed_sf, join = st_within, left = TRUE)\n",
    "\n",
    "# Drop unwanted columns\n",
    "final_df <- schools_with_clusters %>%\n",
    "    st_set_geometry(NULL) %>%  # drop geometry column\n",
    "    select(-clusterED10, -clusterED20) # Drops the clusters only used for robustness for tidier dataset\n",
    "    \n",
    "# Combine this dataset with the main one:\n",
    "# Load main dataset\n",
    "tryCatch({\n",
    "  df<- read_excel(\"C:\\\\\") #Attach main dataset \n",
    "  message(\"Loaded main data\")\n",
    "}, error = function(e) {\n",
    "  stop(\"Unable to load\", e$message)\n",
    "}) \n",
    "   \n",
    "ed_sf <- ed_shp_singlepart\n",
    "\n",
    "# Spatial join: attach clusters from ED polygons to schools based on location\n",
    "schools_with_clusters <- st_join(schools_sf, ed_sf, join = st_within, left = TRUE)\n",
    "\n",
    "# Drop unwanted columns and geometry\n",
    "clusterdf <- schools_with_clusters %>%\n",
    "    st_set_geometry(NULL) %>%\n",
    "        select(-clusterED10, -clusterED20) \n",
    "          # Remove from dataset for tidyness, \n",
    "          # initially utilised for robustness checks.\n",
    "    \n",
    "    # Adding new columns from this clusters dataset to main df\n",
    "    newCol <- setdiff(names(clusterdf), names(df))\n",
    "    combined_df <- df %>%\n",
    "      left_join(\n",
    "        clusterdf %>% select(Year, Eircode, all_of(newCol)),\n",
    "        by = c(\"Year\", \"Eircode\")\n",
    "      ) \n",
    "    # Join both based on 'Year' and 'Eircode' alignment, \n",
    "    # so each row of data aligns correctly.  \n",
    "    # Use column names from your dataset\n",
    "    \n",
    "# Optional: check for NAs in new cluster columns\n",
    "summary(combined_df[newCol])"
   ]
  },
  {
   "cell_type": "code",
   "execution_count": null,
   "id": "f8039f51-9f8d-4916-ad24-742452155b26",
   "metadata": {},
   "outputs": [],
   "source": [
    "# Save combined dataset as Excel file\n",
    "write_xlsx(combined_df, \"C:\\\\\") #Path to folder you wish to save and name full dataset"
   ]
  }
 ],
 "metadata": {
  "kernelspec": {
   "display_name": "R",
   "language": "R",
   "name": "ir"
  },
  "language_info": {
   "codemirror_mode": "r",
   "file_extension": ".r",
   "mimetype": "text/x-r-source",
   "name": "R",
   "pygments_lexer": "r",
   "version": "4.4.2"
  }
 },
 "nbformat": 4,
 "nbformat_minor": 5
}
